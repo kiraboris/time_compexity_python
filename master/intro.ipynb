{
 "cells": [
  {
   "cell_type": "markdown",
   "metadata": {},
   "source": [
    "**Introduction**\n",
    "-----"
   ]
  },
  {
   "cell_type": "markdown",
   "metadata": {},
   "source": [
    "Please duplicate the whole folder **master** and rename it for yourself.  \n",
    "You cannot work together on the same file.  \n",
    "\n",
    "---\n",
    "\n",
    "Press **Ctrl+Enter**  to execute a cell.  \n",
    "Press **Shift+Enter** to execute a cell and advace to next cell.  \n",
    "Press **Alt+Enter**   to execute a cell and insert a new empty cell below..\n",
    "  \n",
    "This is a cell:"
   ]
  },
  {
   "cell_type": "code",
   "execution_count": 5,
   "metadata": {},
   "outputs": [
    {
     "name": "stdout",
     "output_type": "stream",
     "text": [
      "Hello world\n"
     ]
    }
   ],
   "source": [
    "print(\"Hello world\")"
   ]
  },
  {
   "cell_type": "markdown",
   "metadata": {},
   "source": [
    "Outline\n",
    "----"
   ]
  },
  {
   "cell_type": "markdown",
   "metadata": {},
   "source": [
    "<ol>\n",
    "    <li> timing\n",
    "    <li> complexity\n",
    "    <li> timing_2\n",
    "    <li> lists\n",
    "    <li> bisection\n",
    "</ol>"
   ]
  }
 ],
 "metadata": {
  "kernelspec": {
   "display_name": "Python 3",
   "language": "python",
   "name": "python3"
  },
  "language_info": {
   "codemirror_mode": {
    "name": "ipython",
    "version": 3
   },
   "file_extension": ".py",
   "mimetype": "text/x-python",
   "name": "python",
   "nbconvert_exporter": "python",
   "pygments_lexer": "ipython3",
   "version": "3.6.9"
  }
 },
 "nbformat": 4,
 "nbformat_minor": 4
}
