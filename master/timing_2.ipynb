{
 "cells": [
  {
   "cell_type": "markdown",
   "metadata": {},
   "source": [
    "**Timing (part 2)**\n",
    "-----"
   ]
  },
  {
   "cell_type": "markdown",
   "metadata": {},
   "source": [
    "**Problem:**  \n",
    "To test time for objects which are modified by the test, a _setup_ code must be run before each test run.  \n",
    "A combination of setup code and test code for timing can be wrapped into a class (for convenience).  \n",
    "This is an example, where a random list is created at setup and then sorted in the test code:"
   ]
  },
  {
   "cell_type": "code",
   "execution_count": 928,
   "metadata": {},
   "outputs": [],
   "source": [
    "import random\n",
    "\n",
    "class RandomListSortTest:\n",
    "    \"\"\"\n",
    "        This is an example, where a random list is created at setup and then sorted in the test code\n",
    "    \"\"\"\n",
    "    def __init__(self):\n",
    "        \"\"\"\n",
    "            Setup code\n",
    "        \"\"\"\n",
    "        devil_number = 66666  \n",
    "        self.data = [random.randint(0, devil_number) for _ in range(0, devil_number)]\n",
    "\n",
    "    def run(self):\n",
    "        \"\"\"\n",
    "            Test code\n",
    "        \"\"\"\n",
    "        self.data.sort()"
   ]
  },
  {
   "cell_type": "markdown",
   "metadata": {},
   "source": [
    "Testing function, final version:"
   ]
  },
  {
   "cell_type": "code",
   "execution_count": 929,
   "metadata": {},
   "outputs": [],
   "source": [
    "import timeit\n",
    "import time\n",
    "import numpy as np\n",
    "\n",
    "def my_timeit_with_setup(TestClass, T=20):    \n",
    "    \"\"\"\n",
    "        TestClass: class[name] of test case\n",
    "        T: number of test runs\n",
    "    \"\"\"\n",
    "    results = []\n",
    "    for _ in range(0, T):\n",
    "        test = TestClass()  # This executes setup code\n",
    "        \n",
    "        t1 = time.process_time()\n",
    "        test.run()    # This runs the test \n",
    "        t2 = time.process_time()\n",
    "        \n",
    "        results.append((t2-t1))        \n",
    "    \n",
    "    print(\"Test takes {0:3.2f} ± {1:3.2f} msec.\".format(np.mean(results)*1e3,\n",
    "                                                        np.std(results)*1e3))"
   ]
  },
  {
   "cell_type": "code",
   "execution_count": 930,
   "metadata": {},
   "outputs": [
    {
     "name": "stdout",
     "output_type": "stream",
     "text": [
      "Test takes 25.92 ± 3.96 msec.\n"
     ]
    }
   ],
   "source": [
    "my_timeit_with_setup(RandomListSortTest)"
   ]
  },
  {
   "cell_type": "markdown",
   "metadata": {},
   "source": [
    "----\n",
    "**Excercise!**  \n",
    "Wite a test case for sorting an **already sorted** list."
   ]
  },
  {
   "cell_type": "code",
   "execution_count": 909,
   "metadata": {},
   "outputs": [],
   "source": [
    "class AlreadySortedListSortTest:\n",
    "    \"\"\"\n",
    "        This is an excersise example, where an already sorted list is created at setup and then sorted in the test code\n",
    "    \"\"\"\n",
    "    def __init__(self):\n",
    "        \"\"\"\n",
    "            Setup code\n",
    "        \"\"\"\n",
    "        # ========== #\n",
    "        # CODE HERE! #\n",
    "        # ========== #\n",
    "\n",
    "    def run(self):\n",
    "        \"\"\"\n",
    "            Test code\n",
    "        \"\"\"\n",
    "        self.data.sort()"
   ]
  },
  {
   "cell_type": "code",
   "execution_count": null,
   "metadata": {},
   "outputs": [],
   "source": [
    "my_timeit_with_setup(AlreadySortedListSortTest)"
   ]
  }
 ],
 "metadata": {
  "kernelspec": {
   "display_name": "Python 3",
   "language": "python",
   "name": "python3"
  },
  "language_info": {
   "codemirror_mode": {
    "name": "ipython",
    "version": 3
   },
   "file_extension": ".py",
   "mimetype": "text/x-python",
   "name": "python",
   "nbconvert_exporter": "python",
   "pygments_lexer": "ipython3",
   "version": "3.6.9"
  }
 },
 "nbformat": 4,
 "nbformat_minor": 4
}
