{
 "cells": [
  {
   "cell_type": "markdown",
   "metadata": {},
   "source": [
    "**Lists: append() and insert()**\n",
    "-----"
   ]
  },
  {
   "cell_type": "markdown",
   "metadata": {},
   "source": [
    "Test cases:"
   ]
  },
  {
   "cell_type": "code",
   "execution_count": 2,
   "metadata": {},
   "outputs": [],
   "source": [
    "class ListAppendTest:\n",
    "    \"\"\"\n",
    "        A list of size n created on setup.\n",
    "        list.append(x) method tested.\n",
    "    \"\"\"\n",
    "    def __init__(self, n):\n",
    "        self.data = list([1]*n)\n",
    "        self.n = n\n",
    "\n",
    "    def run(self):\n",
    "        self.data.append(42)"
   ]
  },
  {
   "cell_type": "code",
   "execution_count": 3,
   "metadata": {},
   "outputs": [],
   "source": [
    "class ListInsertTest:\n",
    "    \"\"\"\n",
    "        A list of size n created on setup.\n",
    "        list.insert(n/2, x) method tested.\n",
    "    \"\"\"\n",
    "    def __init__(self, n):\n",
    "        self.data = list([1]*n)\n",
    "        self.n = n\n",
    "\n",
    "    def run(self):\n",
    "        self.data.insert(int(self.n/2), 42)"
   ]
  },
  {
   "cell_type": "markdown",
   "metadata": {},
   "source": [
    "---\n",
    "Plotting helper:"
   ]
  },
  {
   "cell_type": "code",
   "execution_count": 56,
   "metadata": {},
   "outputs": [],
   "source": [
    "import matplotlib.pyplot as plt\n",
    "import numpy as np\n",
    "import timeit\n",
    "import time\n",
    "\n",
    "\n",
    "def my_timeit_with_setup(TestClass, n, T):    \n",
    "    \"\"\"\n",
    "        TestClass: class[name] of test case\n",
    "        T: number of test runs\n",
    "    \"\"\"\n",
    "    results = []\n",
    "    for _ in range(0, T):\n",
    "        test = TestClass(n)  \n",
    "        t1 = time.process_time()\n",
    "        test.run()        \n",
    "        t2 = time.process_time()\n",
    "        results.append((t2-t1))        \n",
    "    \n",
    "    return np.mean(results)*1e6\n",
    "\n",
    "\n",
    "def plot_time_vs_n(TestClass, n_max=50000, T=20):\n",
    "    \"\"\"\n",
    "        TestClass(n): class[name] of test case\n",
    "        \n",
    "        n_max: \n",
    "               to investigate dependence on n, we use\n",
    "               range(start=n_max/10, stop=n_max, step=n_max/100)\n",
    "               \n",
    "        T: number of test runs per data point \n",
    "        \n",
    "        **kwargs: passed to plt.plot (plot color etc.)\n",
    "    \"\"\"  \n",
    "    xxx = []\n",
    "    yyy = []\n",
    "    for n in range(n_max//10, n_max, n_max//100):\n",
    "        xxx.append(n)\n",
    "        yyy.append(my_timeit_with_setup(TestClass, n, T))\n",
    "    \n",
    "    plt.xlabel(\"n\")\n",
    "    plt.ylabel(\"time / usec\")\n",
    "    return plt.plot(xxx, yyy)"
   ]
  },
  {
   "cell_type": "code",
   "execution_count": 58,
   "metadata": {},
   "outputs": [
    {
     "data": {
      "image/png": "[encoded data removed]",
      "text/plain": [
       "<Figure size 432x288 with 1 Axes>"
      ]
     },
     "metadata": {
      "needs_background": "light"
     },
     "output_type": "display_data"
    }
   ],
   "source": [
    "plot_time_vs_n(ListAppendTest);\n",
    "plot_time_vs_n(ListInsertTest);"
   ]
  },
  {
   "cell_type": "markdown",
   "metadata": {},
   "source": [
    "Conclusion\n",
    "---"
   ]
  },
  {
   "cell_type": "markdown",
   "metadata": {},
   "source": [
    "**Append**  \n",
    "Usually doesn't need to move aroud existing elements of the list in memory.  \n",
    "Takes amortized constant time O(1)."
   ]
  },
  {
   "cell_type": "markdown",
   "metadata": {},
   "source": [
    "**Insert in the middle**  \n",
    "Has to move half on the existing elements of the list in memory.  \n",
    "Time depends linearely on the length _n_ of the list, O(_n_)."
   ]
  }
 ],
 "metadata": {
  "kernelspec": {
   "display_name": "Python 3",
   "language": "python",
   "name": "python3"
  },
  "language_info": {
   "codemirror_mode": {
    "name": "ipython",
    "version": 3
   },
   "file_extension": ".py",
   "mimetype": "text/x-python",
   "name": "python",
   "nbconvert_exporter": "python",
   "pygments_lexer": "ipython3",
   "version": "3.6.9"
  }
 },
 "nbformat": 4,
 "nbformat_minor": 4
}
