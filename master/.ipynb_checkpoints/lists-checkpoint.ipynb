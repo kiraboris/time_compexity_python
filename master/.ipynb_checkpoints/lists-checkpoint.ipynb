{
 "cells": [
  {
   "cell_type": "markdown",
   "metadata": {},
   "source": [
    "**Lists: append() and insert()**\n",
    "-----"
   ]
  },
  {
   "cell_type": "markdown",
   "metadata": {},
   "source": [
    "**Append**"
   ]
  },
  {
   "cell_type": "code",
   "execution_count": 2,
   "metadata": {},
   "outputs": [],
   "source": [
    "class ListAppendTest:\n",
    "    def __init__(self, n):\n",
    "        self.data = list([1]*n)\n",
    "        self.n = n\n",
    "\n",
    "    def run(self):\n",
    "        self.data.append(42)"
   ]
  },
  {
   "cell_type": "markdown",
   "metadata": {},
   "source": [
    "**Insert in the middle**"
   ]
  },
  {
   "cell_type": "code",
   "execution_count": 3,
   "metadata": {},
   "outputs": [],
   "source": [
    "class ListInsertTest:\n",
    "    def __init__(self, n):\n",
    "        self.data = list([1]*n)\n",
    "        self.n = n\n",
    "\n",
    "    def run(self):\n",
    "        self.data.insert(int(self.n/2), 42)"
   ]
  },
  {
   "cell_type": "markdown",
   "metadata": {},
   "source": [
    "-----\n",
    "**Timing**"
   ]
  },
  {
   "cell_type": "code",
   "execution_count": 4,
   "metadata": {},
   "outputs": [],
   "source": [
    "import timeit\n",
    "import time\n",
    "import numpy as np\n",
    "\n",
    "def my_time(Test, n=25000, T=1000):\n",
    "    \n",
    "    tests = [Test(n) for _ in range(0, T)]\n",
    "    \n",
    "    results = [timeit.timeit(tests[i].run, \n",
    "                             number=1, \n",
    "                             timer=time.process_time) for i in range(0, T)]\n",
    "\n",
    "    print(\"{0:3.2f} ± {1:3.2f} usec per loop\".format(np.mean(results)*1e6,\n",
    "                                                   np.std(results)*1e6))"
   ]
  },
  {
   "cell_type": "code",
   "execution_count": 5,
   "metadata": {},
   "outputs": [
    {
     "name": "stdout",
     "output_type": "stream",
     "text": [
      "1.58 ± 0.27 usec per loop\n",
      "15.96 ± 2.28 usec per loop\n"
     ]
    }
   ],
   "source": [
    "my_time(ListAppendTest)\n",
    "my_time(ListInsertTest)"
   ]
  },
  {
   "cell_type": "markdown",
   "metadata": {},
   "source": [
    "------\n",
    "**Plotting dependence on n**"
   ]
  },
  {
   "cell_type": "code",
   "execution_count": 6,
   "metadata": {},
   "outputs": [],
   "source": [
    "import matplotlib.pyplot as plt\n",
    "import numpy as np\n",
    "import time\n",
    "\n",
    "def plot_time_vs_n(Test, N = 50000, T = 20):\n",
    "    xxx = []\n",
    "    yyy = []\n",
    "    for n in range(N//10, N, 500):\n",
    "        tests = [Test(n) for _ in range(0, T)]\n",
    "        t1 =  time.process_time()\n",
    "        for i in range(0, T):\n",
    "            tests[i].run()\n",
    "        t2 =  time.process_time()\n",
    "        xxx.append(n)\n",
    "        yyy.append((t2-t1)/T*1e6)\n",
    "    \n",
    "    plt.xlabel(\"n\")\n",
    "    plt.ylabel(\"time / usec\")\n",
    "    return plt.plot(xxx, yyy)"
   ]
  },
  {
   "cell_type": "code",
   "execution_count": 9,
   "metadata": {},
   "outputs": [
    {
     "data": {
      "image/png": "[encoded data removed]",
      "text/plain": [
       "<Figure size 432x288 with 1 Axes>"
      ]
     },
     "metadata": {
      "needs_background": "light"
     },
     "output_type": "display_data"
    }
   ],
   "source": [
    "plot_time_vs_n(ListAppendTest);\n",
    "plot_time_vs_n(ListInsertTest);"
   ]
  },
  {
   "cell_type": "markdown",
   "metadata": {},
   "source": [
    "Conclusion\n",
    "---"
   ]
  },
  {
   "cell_type": "markdown",
   "metadata": {},
   "source": [
    "**Append**  \n",
    "Usually doesn't need to move aroud existing elements of the list in memory.  \n",
    "Takes amortized constant time O(1)."
   ]
  },
  {
   "cell_type": "markdown",
   "metadata": {},
   "source": [
    "**Insert in the middle**  \n",
    "Has to move half on the existing elements of the list in memory.  \n",
    "Time depends linearely on the length _n_ of the list, O(_n_)."
   ]
  }
 ],
 "metadata": {
  "kernelspec": {
   "display_name": "Python 3",
   "language": "python",
   "name": "python3"
  },
  "language_info": {
   "codemirror_mode": {
    "name": "ipython",
    "version": 3
   },
   "file_extension": ".py",
   "mimetype": "text/x-python",
   "name": "python",
   "nbconvert_exporter": "python",
   "pygments_lexer": "ipython3",
   "version": "3.6.9"
  }
 },
 "nbformat": 4,
 "nbformat_minor": 4
}
