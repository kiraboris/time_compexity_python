{
 "cells": [
  {
   "cell_type": "markdown",
   "metadata": {},
   "source": [
    "**Timing basics**\n",
    "-----"
   ]
  },
  {
   "cell_type": "markdown",
   "metadata": {},
   "source": [
    "------\n",
    "**%timeit magic**  \n",
    "Arguments:  \n",
    "-n  (loops/tests count)  \n",
    "-r  (runs/repeat count)  \n",
    "  \n",
    "For the following (simplified) code:\n",
    "```\n",
    "results = []\n",
    "for _j in range(r):\n",
    "    setup()\n",
    "    _t0 = _timer()\n",
    "    for _i in range(n):\n",
    "        _func()\n",
    "    _t1 = _timer()\n",
    "    result = _t1 - _t0\n",
    "    results.append(result)\n",
    "```\n",
    "----"
   ]
  },
  {
   "cell_type": "code",
   "execution_count": 7,
   "metadata": {},
   "outputs": [
    {
     "name": "stdout",
     "output_type": "stream",
     "text": [
      "23.8 ns ± 9.83 ns per loop (mean ± std. dev. of 7 runs, 20 loops each)\n"
     ]
    }
   ],
   "source": [
    "%timeit -n20 pass "
   ]
  },
  {
   "cell_type": "code",
   "execution_count": 37,
   "metadata": {},
   "outputs": [
    {
     "name": "stdout",
     "output_type": "stream",
     "text": [
      "5.3 ms ± 330 µs per loop (mean ± std. dev. of 7 runs, 20 loops each)\n"
     ]
    }
   ],
   "source": [
    "%%timeit -n20 \n",
    "result=0\n",
    "for i in range(0, int(1e5)): \n",
    "    result+=1"
   ]
  },
  {
   "cell_type": "code",
   "execution_count": 36,
   "metadata": {},
   "outputs": [
    {
     "name": "stdout",
     "output_type": "stream",
     "text": [
      "1.74 ms ± 140 µs per loop (mean ± std. dev. of 7 runs, 20 loops each)\n"
     ]
    }
   ],
   "source": [
    "%timeit -n20 sum(range(0, int(1e5)))"
   ]
  },
  {
   "cell_type": "markdown",
   "metadata": {},
   "source": [
    "----\n",
    "**Problem 1:**  \n",
    "Timer cannot be customized in the \"magic\" version of the command (?)  \n",
    "On high loaded machines (shamash),  \n",
    "prefer `time.process_time()` over `time.time()`\n",
    "-----"
   ]
  },
  {
   "cell_type": "code",
   "execution_count": 76,
   "metadata": {},
   "outputs": [
    {
     "name": "stdout",
     "output_type": "stream",
     "text": [
      "1.96 ± 0.62 ms per loop\n"
     ]
    }
   ],
   "source": [
    "import time\n",
    "import timeit\n",
    "import numpy as np\n",
    "\n",
    "T = 20  # loops/ tests\n",
    "\n",
    "results = timeit.repeat(lambda: sum(range(0, int(1e5))), \n",
    "                        number=T, \n",
    "                        repeat=7, \n",
    "                        timer=time.process_time)\n",
    "\n",
    "print(\"{0:3.2f} ± {1:3.2f} ms per loop\".format(np.mean(results)/T*1e3,\n",
    "                                               np.std(results)/T*1e3))"
   ]
  },
  {
   "cell_type": "markdown",
   "metadata": {},
   "source": [
    "----\n",
    "**Problem 2:**  \n",
    "To test time for objects which are modified by the test, a _setup_ code must be run before _each_ loop.  \n",
    "Timeit only runs your setup code once at the beginning (?)\n",
    "-----"
   ]
  },
  {
   "cell_type": "markdown",
   "metadata": {},
   "source": [
    "Testing function:"
   ]
  },
  {
   "cell_type": "code",
   "execution_count": 5,
   "metadata": {},
   "outputs": [],
   "source": [
    "import timeit\n",
    "import time\n",
    "import numpy as np\n",
    "\n",
    "def my_time(Test, T=100):\n",
    "    \n",
    "    tests = [Test() for _ in range(0, T)]\n",
    "    \n",
    "    results = [timeit.timeit(tests[i].run, \n",
    "                             number=1, \n",
    "                             timer=time.process_time) for i in range(0, T)]\n",
    "\n",
    "    print(\"{0:3.2f} ± {1:3.2f} ms per loop\".format(np.mean(results)*1e3,\n",
    "                                                   np.std(results)*1e3))"
   ]
  },
  {
   "cell_type": "markdown",
   "metadata": {},
   "source": [
    "And some test cases:"
   ]
  },
  {
   "cell_type": "code",
   "execution_count": 3,
   "metadata": {},
   "outputs": [],
   "source": [
    "class SortedListSortTest:\n",
    "    def __init__(self):\n",
    "        self.data = list(range(0, int(1e4)))\n",
    "\n",
    "    def run(self):\n",
    "        self.data.sort()"
   ]
  },
  {
   "cell_type": "code",
   "execution_count": 2,
   "metadata": {},
   "outputs": [],
   "source": [
    "import random\n",
    "\n",
    "class RandomListSortTest:\n",
    "    def __init__(self):\n",
    "        self.data = [random.randint(0, int(1e4)) for _ in range(0, int(1e4))]\n",
    "\n",
    "    def run(self):\n",
    "        self.data.sort()"
   ]
  },
  {
   "cell_type": "code",
   "execution_count": 6,
   "metadata": {},
   "outputs": [
    {
     "name": "stdout",
     "output_type": "stream",
     "text": [
      "0.15 ± 0.03 ms per loop\n",
      "2.63 ± 0.09 ms per loop\n"
     ]
    }
   ],
   "source": [
    "my_time(SortedListSortTest)\n",
    "my_time(RandomListSortTest)"
   ]
  }
 ],
 "metadata": {
  "kernelspec": {
   "display_name": "Python 3",
   "language": "python",
   "name": "python3"
  },
  "language_info": {
   "codemirror_mode": {
    "name": "ipython",
    "version": 3
   },
   "file_extension": ".py",
   "mimetype": "text/x-python",
   "name": "python",
   "nbconvert_exporter": "python",
   "pygments_lexer": "ipython3",
   "version": "3.6.9"
  }
 },
 "nbformat": 4,
 "nbformat_minor": 4
}
