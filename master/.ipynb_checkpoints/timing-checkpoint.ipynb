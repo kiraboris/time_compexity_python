{
 "cells": [
  {
   "cell_type": "markdown",
   "metadata": {},
   "source": [
    "**Timing (part 1)**\n",
    "-----"
   ]
  },
  {
   "cell_type": "markdown",
   "metadata": {},
   "source": [
    "**Problem:**  \n",
    "We want to test execution time for a function:"
   ]
  },
  {
   "cell_type": "code",
   "execution_count": 919,
   "metadata": {},
   "outputs": [],
   "source": [
    "def my_func():\n",
    "    devil_number = 666666 \n",
    "    for _ in range(0, devil_number): \n",
    "        pass"
   ]
  },
  {
   "cell_type": "markdown",
   "metadata": {},
   "source": [
    "*Easiest solution:*"
   ]
  },
  {
   "cell_type": "code",
   "execution_count": 920,
   "metadata": {},
   "outputs": [
    {
     "name": "stdout",
     "output_type": "stream",
     "text": [
      "Function call takes 38.31 msec.\n"
     ]
    }
   ],
   "source": [
    "import time\n",
    "\n",
    "t1 = time.process_time()\n",
    "my_func()   # This runs the test \n",
    "t2 = time.process_time()\n",
    "\n",
    "print(\"Function call takes {0:3.2f} msec.\".format((t2-t1)*1e3))"
   ]
  },
  {
   "cell_type": "markdown",
   "metadata": {},
   "source": [
    "----\n",
    "*Comment:*  \n",
    "Different timers!<br>\n",
    "`time.time()` -- measures system clock time, same for the entire machine.  \n",
    "`time.process_time()` -- measures time of execution for the current process.\n",
    "-----"
   ]
  },
  {
   "cell_type": "markdown",
   "metadata": {},
   "source": [
    "**Problem:**  \n",
    "Now we want to do \"science\" with this.  \n",
    "We want to run the test in a loop, to get an average execution time and a standard deviation."
   ]
  },
  {
   "cell_type": "code",
   "execution_count": 921,
   "metadata": {},
   "outputs": [],
   "source": [
    "import numpy as np\n",
    "import time\n",
    "\n",
    "def my_timeit(test_func, T = 100):\n",
    "    \"\"\"\n",
    "        test_func: callable to test\n",
    "        T: number of test runs\n",
    "    \"\"\"\n",
    "    results = []\n",
    "    for _ in range(0, T):\n",
    "        \n",
    "        t1 = time.process_time()\n",
    "        test_func()   # This runs the test \n",
    "        t2 = time.process_time()\n",
    "        \n",
    "        results.append((t2-t1))\n",
    "\n",
    "    print(\"Function call takes {0:3.2f} ± {1:3.2f} msec.\".format(np.mean(results)*1e3,\n",
    "                                                                 np.std(results)*1e3))"
   ]
  },
  {
   "cell_type": "code",
   "execution_count": 922,
   "metadata": {},
   "outputs": [
    {
     "name": "stdout",
     "output_type": "stream",
     "text": [
      "Function call takes 14.47 ± 2.78 msec.\n"
     ]
    }
   ],
   "source": [
    "my_timeit(my_func)"
   ]
  }
 ],
 "metadata": {
  "kernelspec": {
   "display_name": "Python 3",
   "language": "python",
   "name": "python3"
  },
  "language_info": {
   "codemirror_mode": {
    "name": "ipython",
    "version": 3
   },
   "file_extension": ".py",
   "mimetype": "text/x-python",
   "name": "python",
   "nbconvert_exporter": "python",
   "pygments_lexer": "ipython3",
   "version": "3.6.9"
  }
 },
 "nbformat": 4,
 "nbformat_minor": 4
}
